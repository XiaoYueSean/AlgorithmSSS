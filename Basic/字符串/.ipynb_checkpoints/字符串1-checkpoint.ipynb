{
 "cells": [
  {
   "cell_type": "markdown",
   "metadata": {},
   "source": [
    "# 字符串"
   ]
  },
  {
   "cell_type": "markdown",
   "metadata": {},
   "source": [
    "## 1.1 字符串相加\n",
    "给定两个字符串形式的非负整数 num1 和num2 ，计算它们的和。\n",
    "\n",
    " \n",
    "\n",
    "提示：\n",
    "\n",
    "num1 和num2 的长度都小于 5100\n",
    "num1 和num2 都只包含数字 0-9\n",
    "num1 和num2 都不包含任何前导零\n",
    "你不能使用任何內建 BigInteger 库， 也不能直接将输入的字符串转换为整数形式\n",
    "\n",
    "来源：力扣（LeetCode）\n",
    "链接：https://leetcode-cn.com/problems/add-strings\n",
    "著作权归领扣网络所有。商业转载请联系官方授权，非商业转载请注明出处。"
   ]
  },
  {
   "cell_type": "code",
   "execution_count": 1,
   "metadata": {
    "ExecuteTime": {
     "end_time": "2020-12-19T11:09:44.218185Z",
     "start_time": "2020-12-19T11:09:44.212645Z"
    }
   },
   "outputs": [],
   "source": [
    "class Solution(object):\n",
    "    def addStrings(self, num1, num2):\n",
    "        \"\"\"\n",
    "        :type num1: str\n",
    "        :type num2: str\n",
    "        :rtype: str\n",
    "        \"\"\"\n",
    "        str_result = ''\n",
    "\n",
    "        # 数位相减法， i j代表着两指针，指着字符串的尾部的数字\n",
    "        # 计算进位： 计算 carry = tmp // 10，代表当前位相加是否产生进位\n",
    "        # 添加当前位： 计算 tmp = n1 + n2 + carry，并将当前位 tmp % 10 添加至 res 头部；\n",
    "        # 索引溢出处理： 当指针 i或j 走过数字首部后，给 n1，n2 赋值为 00，相当于给 num1，num2 中长度较短的数字前面填 00，以便后续计算\n",
    "        # 当遍历完 num1，num2 后跳出循环，并根据 carry 值决定是否在头部添加进位 1，最终返回 res 即可。\n",
    "        len_num1 = len(num1)\n",
    "        len_num2 = len(num2)\n",
    "        string = ''\n",
    "        i, j, carry = len_num1 -1, len_num2 -1, 0 # 初始化\n",
    "        # carry 余数\n",
    "        # i, j 两指针\n",
    "        while i >= 0 or j >= 0: \n",
    "            # 当指针指到字符串【0，+】位的时候，数字就是等于指针指到到那个字符串的数字\n",
    "            # 当指针指到超出0位的时候，指到的数字为0\n",
    "            num1_tail = int(num1[i]) if i >= 0 else 0\n",
    "            num2_tail = int(num2[j]) if j >= 0 else 0\n",
    "            sum_tail = num1_tail + num2_tail + carry # 尾数相加\n",
    "            carry = sum_tail // 10\n",
    "            string =  str(sum_tail % 10) + string\n",
    "            i, j = i - 1, j -1             \n",
    "        if carry == 1:\n",
    "            final_string = '1' + string\n",
    "        else:\n",
    "            final_string = string \n",
    "        return final_string"
   ]
  },
  {
   "cell_type": "code",
   "execution_count": 5,
   "metadata": {},
   "outputs": [
    {
     "data": {
      "text/plain": [
       "'10210'"
      ]
     },
     "execution_count": 5,
     "metadata": {},
     "output_type": "execute_result"
    }
   ],
   "source": [
    "answer1 = Solution()\n",
    "answer1.addStrings('10086', '124') # right!!!\n"
   ]
  },
  {
   "cell_type": "markdown",
   "metadata": {},
   "source": [
    "## 1.2 亲密字符串\n",
    "给定两个由小写字母构成的字符串 A 和 B ，只要我们可以通过交换 A 中的两个字母得到与 B 相等的结果，就返回 true ；否则返回 false 。\n",
    "\n",
    "交换字母的定义是取两个下标 i 和 j （下标从 0 开始），只要 i!=j 就交换 A[i] 和 A[j] 处的字符。例如，在 \"abcd\" 中交换下标 0 和下标 2 的元素可以生成 \"cbad\" 。\n",
    "\n",
    "示例 1：\n",
    "\n",
    "输入： A = \"ab\", B = \"ba\"\n",
    "输出： true\n",
    "解释： 你可以交换 A[0] = 'a' 和 A[1] = 'b' 生成 \"ba\"，此时 A 和 B 相等。\n",
    "示例 2：\n",
    "\n",
    "输入： A = \"ab\", B = \"ab\"\n",
    "输出： false\n",
    "解释： 你只能交换 A[0] = 'a' 和 A[1] = 'b' 生成 \"ba\"，此时 A 和 B 不相等。\n",
    "示例 3:\n",
    "\n",
    "输入： A = \"aa\", B = \"aa\"\n",
    "输出： true\n",
    "解释： 你可以交换 A[0] = 'a' 和 A[1] = 'a' 生成 \"aa\"，此时 A 和 B 相等。\n",
    "示例 4：\n",
    "\n",
    "输入： A = \"aaaaaaabc\", B = \"aaaaaaacb\"\n",
    "输出： true\n",
    "\n"
   ]
  },
  {
   "cell_type": "code",
   "execution_count": 16,
   "metadata": {},
   "outputs": [
    {
     "data": {
      "text/plain": [
       "6"
      ]
     },
     "execution_count": 16,
     "metadata": {},
     "output_type": "execute_result"
    }
   ],
   "source": [
    "class Solution(object):\n",
    "    def buddyStrings(self, A, B):\n",
    "        \"\"\"\n",
    "        :type A: str\n",
    "        :type B: str\n",
    "        :rtype: bool\n",
    "        \"\"\"\n",
    "        # 思路1， 暴力枚举A中的两字符，交换两者位置，看其是否等于B\n",
    "        if len(A) != len(B): return False\n",
    "\n",
    "        if len_A == len_B:\n",
    "            "
   ]
  },
  {
   "cell_type": "markdown",
   "metadata": {},
   "source": [
    "## 1.3 检查两个字符串是否相等\n",
    "给你两个字符串数组 word1 和 word2 。如果两个数组表示的字符串相同，返回 true ；否则，返回 false 。\n",
    "\n",
    "数组表示的字符串 是由数组中的所有元素 按顺序 连接形成的字符串。\n",
    "\n"
   ]
  },
  {
   "cell_type": "code",
   "execution_count": 38,
   "metadata": {},
   "outputs": [
    {
     "data": {
      "text/plain": [
       "True"
      ]
     },
     "execution_count": 38,
     "metadata": {},
     "output_type": "execute_result"
    }
   ],
   "source": [
    "class Solution(object):\n",
    "    def arrayStringsAreEqual(self, word1, word2):\n",
    "        \"\"\"\n",
    "        :type word1: List[str]\n",
    "        :type word2: List[str]\n",
    "        :rtype: bool\n",
    "        \"\"\"\n",
    "        str1 = ''\n",
    "        str2 = ''\n",
    "        \n",
    "        for str_i in word1:\n",
    "            str1 = str1 + str_i \n",
    "\n",
    "        for str_j in word2:\n",
    "            str2 = str2 + str_j\n",
    "\n",
    "        return True if str1 == str2 else False\n",
    "\n",
    "answer1 = Solution()\n",
    "answer1.arrayStringsAreEqual(['ab','c'],['a','bc'])\n"
   ]
  },
  {
   "cell_type": "code",
   "execution_count": 37,
   "metadata": {},
   "outputs": [
    {
     "data": {
      "text/plain": [
       "True"
      ]
     },
     "execution_count": 37,
     "metadata": {},
     "output_type": "execute_result"
    }
   ],
   "source": [
    "class Solution2(object):\n",
    "    def arrayStringsAreEqual(self, word1, word2):\n",
    "        \"\"\"\n",
    "        :type word1: List[str]\n",
    "        :type word2: List[str]\n",
    "        :rtype: bool\n",
    "        \"\"\"\n",
    "        str1 = ''\n",
    "        str2 = ''\n",
    "        for i in word1:\n",
    "            str1 += i\n",
    "        for j in word2:\n",
    "            str2 += j\n",
    "        if str1 == str2:\n",
    "            return True\n",
    "        else:\n",
    "            return False\n",
    "\n",
    "solution2 = Solution2()\n",
    "solution2.arrayStringsAreEqual(['ab','c'], ['a','bc'])"
   ]
  },
  {
   "cell_type": "markdown",
   "metadata": {},
   "source": [
    "## 1.4 判定是否互为字符重排\n",
    "给定两个字符串 s1 和 s2，请编写一个程序，确定其中一个字符串的字符重新排列后，能否变成另一个字符串。\n",
    "\n",
    "示例 1：\n",
    "\n",
    "输入: s1 = \"abc\", s2 = \"bca\"\n",
    "输出: true \n",
    "示例 2：\n",
    "\n",
    "输入: s1 = \"abc\", s2 = \"bad\"\n",
    "输出: false\n"
   ]
  },
  {
   "cell_type": "code",
   "execution_count": 84,
   "metadata": {},
   "outputs": [
    {
     "data": {
      "text/plain": [
       "True"
      ]
     },
     "execution_count": 84,
     "metadata": {},
     "output_type": "execute_result"
    }
   ],
   "source": [
    " def CheckPermutation( s1: str, s2: str) -> bool:\n",
    "        s1_dict={}\n",
    "        s2_dict={}\n",
    "        for i in s1:\n",
    "            s1_dict[i] = s1_dict.get(i,0)+1\n",
    "        for j in s2:\n",
    "            s2_dict[j] = s2_dict.get(j,0)+1\n",
    "        if s1_dict==s2_dict:\n",
    "            return True\n",
    "        else:\n",
    "            return False\n",
    "\n",
    "CheckPermutation('asd','dsa')"
   ]
  },
  {
   "cell_type": "code",
   "execution_count": null,
   "metadata": {},
   "outputs": [],
   "source": []
  }
 ],
 "metadata": {
  "kernelspec": {
   "display_name": "Python 3",
   "language": "python",
   "name": "python3"
  },
  "language_info": {
   "codemirror_mode": {
    "name": "ipython",
    "version": 3
   },
   "file_extension": ".py",
   "mimetype": "text/x-python",
   "name": "python",
   "nbconvert_exporter": "python",
   "pygments_lexer": "ipython3",
   "version": "3.7.6"
  },
  "toc": {
   "base_numbering": 1,
   "nav_menu": {},
   "number_sections": true,
   "sideBar": true,
   "skip_h1_title": false,
   "title_cell": "Table of Contents",
   "title_sidebar": "Contents",
   "toc_cell": false,
   "toc_position": {},
   "toc_section_display": true,
   "toc_window_display": false
  },
  "varInspector": {
   "cols": {
    "lenName": 16,
    "lenType": 16,
    "lenVar": 40
   },
   "kernels_config": {
    "python": {
     "delete_cmd_postfix": "",
     "delete_cmd_prefix": "del ",
     "library": "var_list.py",
     "varRefreshCmd": "print(var_dic_list())"
    },
    "r": {
     "delete_cmd_postfix": ") ",
     "delete_cmd_prefix": "rm(",
     "library": "var_list.r",
     "varRefreshCmd": "cat(var_dic_list()) "
    }
   },
   "types_to_exclude": [
    "module",
    "function",
    "builtin_function_or_method",
    "instance",
    "_Feature"
   ],
   "window_display": false
  }
 },
 "nbformat": 4,
 "nbformat_minor": 4
}

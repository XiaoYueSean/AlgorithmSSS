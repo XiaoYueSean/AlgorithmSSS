{
 "cells": [
  {
   "cell_type": "markdown",
   "metadata": {},
   "source": [
    "# 字符串"
   ]
  },
  {
   "cell_type": "markdown",
   "metadata": {},
   "source": [
    "## 1.1 字符串相加\n",
    "给定两个字符串形式的非负整数 num1 和num2 ，计算它们的和。\n",
    "\n",
    " \n",
    "\n",
    "提示：\n",
    "\n",
    "num1 和num2 的长度都小于 5100\n",
    "num1 和num2 都只包含数字 0-9\n",
    "num1 和num2 都不包含任何前导零\n",
    "你不能使用任何內建 BigInteger 库， 也不能直接将输入的字符串转换为整数形式\n",
    "\n",
    "来源：力扣（LeetCode）\n",
    "链接：https://leetcode-cn.com/problems/add-strings\n",
    "著作权归领扣网络所有。商业转载请联系官方授权，非商业转载请注明出处。"
   ]
  },
  {
   "cell_type": "code",
   "execution_count": 1,
   "metadata": {
    "ExecuteTime": {
     "end_time": "2020-12-19T11:09:44.218185Z",
     "start_time": "2020-12-19T11:09:44.212645Z"
    }
   },
   "outputs": [],
   "source": [
    "class Solution(object):\n",
    "    def addStrings(self, num1, num2):\n",
    "        \"\"\"\n",
    "        :type num1: str\n",
    "        :type num2: str\n",
    "        :rtype: str\n",
    "        \"\"\"\n",
    "        str_result = ''\n",
    "\n",
    "        # 数位相减法， i j代表着两指针，指着字符串的尾部的数字\n",
    "        # 计算进位： 计算 carry = tmp // 10，代表当前位相加是否产生进位\n",
    "        # 添加当前位： 计算 tmp = n1 + n2 + carry，并将当前位 tmp % 10 添加至 res 头部；\n",
    "        # 索引溢出处理： 当指针 i或j 走过数字首部后，给 n1，n2 赋值为 00，相当于给 num1，num2 中长度较短的数字前面填 00，以便后续计算\n",
    "        # 当遍历完 num1，num2 后跳出循环，并根据 carry 值决定是否在头部添加进位 1，最终返回 res 即可。\n",
    "        len_num1 = len(num1)\n",
    "        len_num2 = len(num2)\n",
    "        string = ''\n",
    "        i, j, carry = len_num1 -1, len_num2 -1, 0 # 初始化\n",
    "        # carry 余数\n",
    "        # i, j 两指针\n",
    "        while i >= 0 or j >= 0: \n",
    "            # 当指针指到字符串【0，+】位的时候，数字就是等于指针指到到那个字符串的数字\n",
    "            # 当指针指到超出0位的时候，指到的数字为0\n",
    "            num1_tail = int(num1[i]) if i >= 0 else 0\n",
    "            num2_tail = int(num2[j]) if j >= 0 else 0\n",
    "            sum_tail = num1_tail + num2_tail + carry # 尾数相加\n",
    "            carry = sum_tail // 10\n",
    "            string =  str(sum_tail % 10) + string\n",
    "            i, j = i - 1, j -1             \n",
    "        if carry == 1:\n",
    "            final_string = '1' + string\n",
    "        else:\n",
    "            final_string = string \n",
    "        return final_string"
   ]
  },
  {
   "cell_type": "code",
   "execution_count": 5,
   "metadata": {},
   "outputs": [
    {
     "data": {
      "text/plain": [
       "'10210'"
      ]
     },
     "execution_count": 5,
     "metadata": {},
     "output_type": "execute_result"
    }
   ],
   "source": [
    "answer1 = Solution()\n",
    "answer1.addStrings('10086', '124') # right!!!\n"
   ]
  },
  {
   "cell_type": "markdown",
   "metadata": {},
   "source": [
    "## 1.2 亲密字符串\n",
    "给定两个由小写字母构成的字符串 A 和 B ，只要我们可以通过交换 A 中的两个字母得到与 B 相等的结果，就返回 true ；否则返回 false 。\n",
    "\n",
    "交换字母的定义是取两个下标 i 和 j （下标从 0 开始），只要 i!=j 就交换 A[i] 和 A[j] 处的字符。例如，在 \"abcd\" 中交换下标 0 和下标 2 的元素可以生成 \"cbad\" 。\n",
    "\n",
    "示例 1：\n",
    "\n",
    "输入： A = \"ab\", B = \"ba\"\n",
    "输出： true\n",
    "解释： 你可以交换 A[0] = 'a' 和 A[1] = 'b' 生成 \"ba\"，此时 A 和 B 相等。\n",
    "示例 2：\n",
    "\n",
    "输入： A = \"ab\", B = \"ab\"\n",
    "输出： false\n",
    "解释： 你只能交换 A[0] = 'a' 和 A[1] = 'b' 生成 \"ba\"，此时 A 和 B 不相等。\n",
    "示例 3:\n",
    "\n",
    "输入： A = \"aa\", B = \"aa\"\n",
    "输出： true\n",
    "解释： 你可以交换 A[0] = 'a' 和 A[1] = 'a' 生成 \"aa\"，此时 A 和 B 相等。\n",
    "示例 4：\n",
    "\n",
    "输入： A = \"aaaaaaabc\", B = \"aaaaaaacb\"\n",
    "输出： true\n",
    "\n"
   ]
  },
  {
   "cell_type": "code",
   "execution_count": 16,
   "metadata": {},
   "outputs": [
    {
     "data": {
      "text/plain": [
       "6"
      ]
     },
     "execution_count": 16,
     "metadata": {},
     "output_type": "execute_result"
    }
   ],
   "source": [
    "class Solution(object):\n",
    "    def buddyStrings(self, A, B):\n",
    "        \"\"\"\n",
    "        :type A: str\n",
    "        :type B: str\n",
    "        :rtype: bool\n",
    "        \"\"\"\n",
    "        # 思路1， 暴力枚举A中的两字符，交换两者位置，看其是否等于B\n",
    "        if len(A) != len(B): return False\n",
    "\n",
    "        if len_A == len_B:\n",
    "            "
   ]
  },
  {
   "cell_type": "markdown",
   "metadata": {},
   "source": [
    "## 1.3 检查两个字符串是否相等\n",
    "给你两个字符串数组 word1 和 word2 。如果两个数组表示的字符串相同，返回 true ；否则，返回 false 。\n",
    "\n",
    "数组表示的字符串 是由数组中的所有元素 按顺序 连接形成的字符串。\n",
    "\n"
   ]
  },
  {
   "cell_type": "code",
   "execution_count": 38,
   "metadata": {},
   "outputs": [
    {
     "data": {
      "text/plain": [
       "True"
      ]
     },
     "execution_count": 38,
     "metadata": {},
     "output_type": "execute_result"
    }
   ],
   "source": [
    "class Solution(object):\n",
    "    def arrayStringsAreEqual(self, word1, word2):\n",
    "        \"\"\"\n",
    "        :type word1: List[str]\n",
    "        :type word2: List[str]\n",
    "        :rtype: bool\n",
    "        \"\"\"\n",
    "        str1 = ''\n",
    "        str2 = ''\n",
    "        \n",
    "        for str_i in word1:\n",
    "            str1 = str1 + str_i \n",
    "\n",
    "        for str_j in word2:\n",
    "            str2 = str2 + str_j\n",
    "\n",
    "        return True if str1 == str2 else False\n",
    "\n",
    "answer1 = Solution()\n",
    "answer1.arrayStringsAreEqual(['ab','c'],['a','bc'])\n"
   ]
  },
  {
   "cell_type": "code",
   "execution_count": 37,
   "metadata": {},
   "outputs": [
    {
     "data": {
      "text/plain": [
       "True"
      ]
     },
     "execution_count": 37,
     "metadata": {},
     "output_type": "execute_result"
    }
   ],
   "source": [
    "class Solution2(object):\n",
    "    def arrayStringsAreEqual(self, word1, word2):\n",
    "        \"\"\"\n",
    "        :type word1: List[str]\n",
    "        :type word2: List[str]\n",
    "        :rtype: bool\n",
    "        \"\"\"\n",
    "        str1 = ''\n",
    "        str2 = ''\n",
    "        for i in word1:\n",
    "            str1 += i\n",
    "        for j in word2:\n",
    "            str2 += j\n",
    "        if str1 == str2:\n",
    "            return True\n",
    "        else:\n",
    "            return False\n",
    "\n",
    "solution2 = Solution2()\n",
    "solution2.arrayStringsAreEqual(['ab','c'], ['a','bc'])"
   ]
  },
  {
   "cell_type": "markdown",
   "metadata": {},
   "source": [
    "## 1.4 判定是否互为字符重排\n",
    "给定两个字符串 s1 和 s2，请编写一个程序，确定其中一个字符串的字符重新排列后，能否变成另一个字符串。\n",
    "\n",
    "示例 1：\n",
    "\n",
    "输入: s1 = \"abc\", s2 = \"bca\"\n",
    "输出: true \n",
    "示例 2：\n",
    "\n",
    "输入: s1 = \"abc\", s2 = \"bad\"\n",
    "输出: false\n"
   ]
  },
  {
   "cell_type": "code",
   "execution_count": 84,
   "metadata": {},
   "outputs": [
    {
     "data": {
      "text/plain": [
       "True"
      ]
     },
     "execution_count": 84,
     "metadata": {},
     "output_type": "execute_result"
    }
   ],
   "source": [
    " def CheckPermutation( s1: str, s2: str) -> bool:\n",
    "        s1_dict={}\n",
    "        s2_dict={}\n",
    "        for i in s1:\n",
    "            s1_dict[i] = s1_dict.get(i,0)+1\n",
    "        for j in s2:\n",
    "            s2_dict[j] = s2_dict.get(j,0)+1\n",
    "        if s1_dict==s2_dict:\n",
    "            return True\n",
    "        else:\n",
    "            return False\n",
    "\n",
    "CheckPermutation('asd','dsa')"
   ]
  },
  {
   "source": [
    "## 1.5 删除字符串中的所有相邻重复项\n",
    "给出由小写字母组成的字符串 S，重复项删除操作会选择两个相邻且相同的字母，并删除它们。\n",
    "\n",
    "在 S 上反复执行重复项删除操作，直到无法继续删除。\n",
    "\n",
    "在完成所有重复项删除操作后返回最终的字符串。答案保证唯一。\n",
    "\n",
    "> 输入：\"abbaca\"  \n",
    "> 输出：\"ca\"  \n",
    "> 解释：  \n",
    "> 例如，在 \"abbaca\" 中，我们可以删除 \"bb\" 由于两字母相邻且相同，这是此时唯一可以执行删除操作的重复项。之后我们得到字符串 \"aaca\"，其中又只有 \"aa\" 可以执行重复项删除操作，所以最后的字符串为 \"ca\"。\n",
    "\n"
   ],
   "cell_type": "markdown",
   "metadata": {}
  },
  {
   "cell_type": "code",
   "execution_count": 12,
   "metadata": {},
   "outputs": [],
   "source": [
    "class Solution:\n",
    "    def removeDuplicates(self, S: str) -> str:\n",
    "        # 秘诀在于栈\n",
    "        # 想想你玩对消消乐\n",
    "        stack = [] \n",
    "        for ch in S: \n",
    "            if stack and ch == stack[-1]: # 若果栈不为空且该字符等于栈的末尾字符，则pop掉栈尾的字符\n",
    "                stack.pop()\n",
    "            else: # 若不符合上面条件则直接添加\n",
    "                stack.append(ch)\n",
    "        return \"\".join(stack)"
   ]
  },
  {
   "cell_type": "code",
   "execution_count": 13,
   "metadata": {},
   "outputs": [
    {
     "output_type": "execute_result",
     "data": {
      "text/plain": [
       "'cd'"
      ]
     },
     "metadata": {},
     "execution_count": 13
    }
   ],
   "source": [
    "example = Solution()\n",
    "example.removeDuplicates('abbacd')"
   ]
  },
  {
   "source": [
    "## 1.6 左旋转字符串\n",
    "字符串的左旋转操作是把字符串前面的若干个字符转移到字符串的尾部。请定义一个函数实现字符串左旋转操作的功能。比如，输入字符串\"abcdefg\"和数字2，该函数将返回左旋转两位得到的结果\"cdefgab\"。\n",
    "\n",
    "> 输入: s = \"abcdefg\", k = 2  \n",
    "> 输出: \"cdefgab\"\n",
    "\n",
    "\n"
   ],
   "cell_type": "markdown",
   "metadata": {}
  },
  {
   "cell_type": "code",
   "execution_count": 20,
   "metadata": {},
   "outputs": [],
   "source": [
    "class Solution:\n",
    "    def reverseLeftWords(self, s: str, n: int) -> str:\n",
    "        '''\n",
    "        若允许切片操作\n",
    "        return s[:n] + s[n:]\n",
    "        '''\n",
    "        \n",
    "        # 若不允许切片\n",
    "        res = []\n",
    "        for i in range(n, len(s)):\n",
    "            res.append(s[i])\n",
    "        for i in range(n):\n",
    "            res.append(s[i])\n",
    "        return \"\".join(res)\n",
    "        \n",
    "        \n"
   ]
  },
  {
   "cell_type": "code",
   "execution_count": 21,
   "metadata": {},
   "outputs": [
    {
     "output_type": "execute_result",
     "data": {
      "text/plain": [
       "'dfgaaafas'"
      ]
     },
     "metadata": {},
     "execution_count": 21
    }
   ],
   "source": [
    "example = Solution()\n",
    "example.reverseLeftWords('asdfgaaaf', 2)\n"
   ]
  },
  {
   "source": [
    "## 1.7 旋转数字\n",
    "我们称一个数 X 为好数, 如果它的每位数字逐个地被旋转 180 度后，我们仍可以得到一个有效的，且和 X 不同的数。要求每位数字都要被旋转。\n",
    "\n",
    "如果一个数的每位数字被旋转以后仍然还是一个数字， 则这个数是有效的。0, 1, 和 8 被旋转后仍然是它们自己；2 和 5 可以互相旋转成对方（在这种情况下，它们以不同的方向旋转，换句话说，2 和 5 互为镜像）；6 和 9 同理，除了这些以外其他的数字旋转以后都不再是有效的数字。\n",
    "\n",
    "现在我们有一个正整数 N, 计算从 1 到 N 中有多少个数 X 是好数？\n",
    "\n",
    "> 输入: 10  \n",
    "> 输出: 4  \n",
    "> 解释:   \n",
    "> 在[1, 10]中有四个好数： 2, 5, 6, 9。注意 1 和 10 不是好数, 因为他们在旋转之后不变。  \n"
   ],
   "cell_type": "markdown",
   "metadata": {}
  },
  {
   "cell_type": "code",
   "execution_count": 40,
   "metadata": {},
   "outputs": [
    {
     "output_type": "execute_result",
     "data": {
      "text/plain": [
       "4"
      ]
     },
     "metadata": {},
     "execution_count": 40
    }
   ],
   "source": [
    "class Solution:\n",
    "    def rotatedDigits(self, N: int) -> int:\n",
    "\n",
    "# ???"
   ]
  },
  {
   "cell_type": "code",
   "execution_count": 51,
   "metadata": {},
   "outputs": [],
   "source": [
    "a = '13'"
   ]
  },
  {
   "source": [
    "## 1.9 统计一致字符串的数目"
   ],
   "cell_type": "markdown",
   "metadata": {}
  },
  {
   "cell_type": "code",
   "execution_count": 59,
   "metadata": {},
   "outputs": [
    {
     "output_type": "execute_result",
     "data": {
      "text/plain": [
       "5"
      ]
     },
     "metadata": {},
     "execution_count": 59
    }
   ],
   "source": [
    "'''\n",
    "给你一个由不同字符组成的字符串 allowed 和一个字符串数组 words 。如果一个字符串的每一个字符都在 allowed 中，就称这个字符串是 一致字符串 。\n",
    "请你返回 words 数组中 一致字符串 的数目。\n",
    "\n",
    "示例 1：\n",
    "输入：allowed = \"ab\", words = [\"ad\",\"bd\",\"aaab\",\"baa\",\"badab\"]\n",
    "输出：2\n",
    "解释：字符串 \"aaab\" 和 \"baa\" 都是一致字符串，因为它们只包含字符 'a' 和 'b' \n",
    "\n",
    "\n",
    "'''\n",
    "class Solution:\n",
    "    def countConsistentStrings(self, allowed, words):\n",
    "        allow_set = set(list(allowed))\n",
    "        res = 0\n",
    "        for word in words:\n",
    "            for ch in word:\n",
    "                if ch not in allow_set:\n",
    "                    res -= 1\n",
    "                    break\n",
    "            res += 1\n",
    "        return res\n",
    "\n",
    "s = Solution()\n",
    "s.countConsistentStrings(allowed = 'abdds', words=[\"ad\",\"bd\",\"aaab\",\"baa\",\"badab\"])"
   ]
  },
  {
   "source": [
    "## 分割平衡字符串\n",
    "\n",
    "在一个 平衡字符串 中，'L' 和 'R' 字符的数量是相同的。\n",
    "\n",
    "给你一个平衡字符串 s，请你将它分割成尽可能多的平衡字符串。\n",
    "\n",
    "注意：分割得到的每个字符串都必须是平衡字符串。\n",
    "\n",
    "返回可以通过分割得到的平衡字符串的 最大数量 。\n",
    "\n",
    "```python\n",
    "输入：s = \"RLRRLLRLRL\"\n",
    "输出：4\n",
    "解释：s 可以分割为 \"RL\"、\"RRLL\"、\"RL\"、\"RL\" ，每个子字符串中都包含相同数量的 'L' 和 'R' 。\n",
    "```\n",
    "\n"
   ],
   "cell_type": "markdown",
   "metadata": {}
  },
  {
   "cell_type": "code",
   "execution_count": 74,
   "metadata": {},
   "outputs": [
    {
     "output_type": "execute_result",
     "data": {
      "text/plain": [
       "4"
      ]
     },
     "metadata": {},
     "execution_count": 74
    }
   ],
   "source": [
    "\n",
    "    def balancedStringSplit(self, s: str) -> int:\n",
    "        '''\n",
    "        思路，对L、R的数量进行记数，当他们数量合为0时，则分割出一个平衡字符串\n",
    "                                \n",
    "        '''\n",
    "        ans=0\n",
    "        count=0\n",
    "        for i in s:\n",
    "            if i=='R':\n",
    "                ans+=1\n",
    "            else:\n",
    "                ans-=1\n",
    "            if ans==0:\n",
    "                count+=1\n",
    "        return count\n",
    "\n",
    "s = Solution()\n",
    "s.balancedStringSplit('RLRRLLRLRL')"
   ]
  },
  {
   "cell_type": "code",
   "execution_count": null,
   "metadata": {},
   "outputs": [],
   "source": []
  },
  {
   "source": [
    "## 旅行终点站\n",
    "给你一份旅游线路图，该线路图中的旅行线路用数组 paths 表示，其中 paths[i] = [cityAi, cityBi] 表示该线路将会从 cityAi 直接前往 cityBi 。请你找出这次旅行的终点站，即没有任何可以通往其他城市的线路的城市。\n",
    "\n",
    "题目数据保证线路图会形成一条不存在循环的线路，因此只会有一个旅行终点站。\n",
    "\n",
    "```python\n",
    "示例 1：\n",
    "输入：paths = [[\"London\",\"New York\"],[\"New York\",\"Lima\"],[\"Lima\",\"Sao Paulo\"]]\n",
    "输出：\"Sao Paulo\" \n",
    "解释：从 \"London\" 出发，最后抵达终点站 \"Sao Paulo\" 。本次旅行的路线是 \"London\" -> \"New York\" -> \"Lima\" -> \"Sao Paulo\" 。\n",
    "```"
   ],
   "cell_type": "markdown",
   "metadata": {}
  },
  {
   "cell_type": "code",
   "execution_count": 87,
   "metadata": {},
   "outputs": [
    {
     "output_type": "execute_result",
     "data": {
      "text/plain": [
       "'Sao Paulo'"
      ]
     },
     "metadata": {},
     "execution_count": 87
    }
   ],
   "source": [
    "class Solution(object):\n",
    "    def destCity(self, paths):\n",
    "        \"\"\"\n",
    "        :type paths: List[List[str]]\n",
    "        :rtype: str\n",
    "\n",
    "        所有城市的集合-起始城市的集合 = 目的地\n",
    "        \"\"\"\n",
    "        \n",
    "        allCity = set()\n",
    "        beginCity = set()\n",
    "        for path in paths:\n",
    "            allCity.add(path[0])\n",
    "            allCity.add(path[1])\n",
    "            beginCity.add(path[0])\n",
    "        return (allCity - beginCity).pop()\n",
    "        \n",
    "s = Solution()\n",
    "paths = [[\"London\",\"New York\"],[\"New York\",\"Lima\"],[\"Lima\",\"Sao Paulo\"]]\n",
    "s.destCity(paths)"
   ]
  },
  {
   "cell_type": "code",
   "execution_count": 86,
   "metadata": {},
   "outputs": [
    {
     "output_type": "execute_result",
     "data": {
      "text/plain": [
       "set()"
      ]
     },
     "metadata": {},
     "execution_count": 86
    }
   ],
   "source": [
    "{'a','b'} - {'b','c'}"
   ]
  },
  {
   "cell_type": "code",
   "execution_count": null,
   "metadata": {},
   "outputs": [],
   "source": []
  }
 ],
 "metadata": {
  "kernelspec": {
   "display_name": "Python 3",
   "language": "python",
   "name": "python3"
  },
  "language_info": {
   "codemirror_mode": {
    "name": "ipython",
    "version": 3
   },
   "file_extension": ".py",
   "mimetype": "text/x-python",
   "name": "python",
   "nbconvert_exporter": "python",
   "pygments_lexer": "ipython3",
   "version": "3.7.6-final"
  },
  "toc": {
   "base_numbering": 1,
   "nav_menu": {},
   "number_sections": false,
   "sideBar": true,
   "skip_h1_title": false,
   "title_cell": "Table of Contents",
   "title_sidebar": "Contents",
   "toc_cell": false,
   "toc_position": {
    "height": "calc(100% - 180px)",
    "left": "10px",
    "top": "150px",
    "width": "256px"
   },
   "toc_section_display": true,
   "toc_window_display": true
  },
  "varInspector": {
   "cols": {
    "lenName": 16,
    "lenType": 16,
    "lenVar": 40
   },
   "kernels_config": {
    "python": {
     "delete_cmd_postfix": "",
     "delete_cmd_prefix": "del ",
     "library": "var_list.py",
     "varRefreshCmd": "print(var_dic_list())"
    },
    "r": {
     "delete_cmd_postfix": ") ",
     "delete_cmd_prefix": "rm(",
     "library": "var_list.r",
     "varRefreshCmd": "cat(var_dic_list()) "
    }
   },
   "types_to_exclude": [
    "module",
    "function",
    "builtin_function_or_method",
    "instance",
    "_Feature"
   ],
   "window_display": false
  }
 },
 "nbformat": 4,
 "nbformat_minor": 4
}
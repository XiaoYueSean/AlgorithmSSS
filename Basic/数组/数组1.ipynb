{
 "metadata": {
  "language_info": {
   "codemirror_mode": {
    "name": "ipython",
    "version": 3
   },
   "file_extension": ".py",
   "mimetype": "text/x-python",
   "name": "python",
   "nbconvert_exporter": "python",
   "pygments_lexer": "ipython3",
   "version": "3.8.3-final"
  },
  "orig_nbformat": 2,
  "kernelspec": {
   "name": "python3",
   "display_name": "Python 3.8.3 64-bit",
   "metadata": {
    "interpreter": {
     "hash": "082e9a3bcad0a290d0001e938aa60b99250c6c2ef33a923c00b70f9826caf4b7"
    }
   }
  }
 },
 "nbformat": 4,
 "nbformat_minor": 2,
 "cells": [
  {
   "source": [
    "# 容易\n",
    "\n",
    "## 转置矩阵\n",
    "给你一个二维整数数组 matrix， 返回 matrix 的 转置矩阵 。\n",
    "\n",
    "矩阵的 转置 是指将矩阵的主对角线翻转，交换矩阵的行索引与列索引。\n",
    "\n",
    "```python\n",
    "输入：matrix = [[1,2,3],[4,5,6],[7,8,9]]\n",
    "输出：[[1,4,7],[2,5,8],[3,6,9]]  \n",
    "\n",
    "示例 2：\n",
    "输入：matrix = [[1,2,3],[4,5,6]]\n",
    "输出：[[1,4],[2,5],[3,6]]\n",
    "```\n",
    "\n"
   ],
   "cell_type": "markdown",
   "metadata": {}
  },
  {
   "cell_type": "code",
   "execution_count": 19,
   "metadata": {},
   "outputs": [
    {
     "output_type": "execute_result",
     "data": {
      "text/plain": [
       "[[1, 4], [2, 5], [3, 6]]"
      ]
     },
     "metadata": {},
     "execution_count": 19
    }
   ],
   "source": [
    "class Solution(object):\n",
    "    def transpose(self, matrix):\n",
    "        \"\"\"\n",
    "        :type matrix: List[List[int]]\n",
    "\n",
    "        :rtype: List[List[int]]\n",
    "        \"\"\"\n",
    "        M, N = len(matrix), len(matrix[0]) # M 行数， N 列数\n",
    "        transpose_matrix = [[0] * M for i in range(N)] # 初始化，构造0矩阵\n",
    "        for i in range(M): \n",
    "            for j in range(N):\n",
    "                # 指针指到 [0,0]  [0,1] [0,2] ...\n",
    "                # 然后再替换掉transpose_matrix 里面的数字[0,0], [1,0], [2,0]\n",
    "                transpose_matrix[j][i] = matrix[i][j]\n",
    "        return transpose_matrix\n",
    "matrix = [[1,2,3],[4,5,6]]\n",
    "q1 = Solution()\n",
    "q1.transpose(matrix)\n",
    "        \n",
    "        \n",
    "        # 构造一个全0矩阵"
   ]
  },
  {
   "cell_type": "code",
   "execution_count": 17,
   "metadata": {},
   "outputs": [
    {
     "output_type": "execute_result",
     "data": {
      "text/plain": [
       "[[1, 4, 7], [2, 5, 8], [3, 6, 9]]"
      ]
     },
     "metadata": {},
     "execution_count": 17
    }
   ],
   "source": [
    "matrix = [[1,2,3],[4,5,6],[7,8,9]]\n",
    "a = Solution()\n",
    "a.transpose([[1,2,3],[4,5,6],[7,8,9]])"
   ]
  },
  {
   "source": [
    "## 主要元素\n",
    "\n",
    "数组中占比超过一半的元素称之为主要元素。给定一个整数数组，找到它的主要元素。若没有，返回-1。\n",
    "\n",
    "```python\n",
    "输入：[1,2,5,9,5,9,5,5,5]\n",
    "输出：5\n",
    "```\n",
    "\n"
   ],
   "cell_type": "markdown",
   "metadata": {}
  },
  {
   "cell_type": "code",
   "execution_count": 75,
   "metadata": {},
   "outputs": [
    {
     "output_type": "execute_result",
     "data": {
      "text/plain": [
       "5"
      ]
     },
     "metadata": {},
     "execution_count": 75
    }
   ],
   "source": [
    "class Solution:\n",
    "    def majorityElement(self, nums):\n",
    "        if not nums:\n",
    "            return -1\n",
    "        # 初始化 major vote\n",
    "        major, vote  = None, 0 \n",
    "        # 算出 major\n",
    "        for num in nums:\n",
    "            if vote == 0:\n",
    "                major = num\n",
    "                vote += 1\n",
    "            else:\n",
    "                if major == num:\n",
    "                    vote += 1\n",
    "                else:\n",
    "                    vote -= 1\n",
    "        if vote == 0:\n",
    "            return -1\n",
    "        \n",
    "        identify = 0    \n",
    "        for num in nums:\n",
    "            if major == num:\n",
    "                identify += 1\n",
    "                if identify > len(nums)/2:\n",
    "                    return major\n",
    "        return -1\n",
    "\n",
    "nums = [1,2,5,9,5,9,5,5,5]\n",
    "function_test = Solution()\n",
    "function_test.majorityElement(nums)\n"
   ]
  },
  {
   "cell_type": "code",
   "execution_count": null,
   "metadata": {},
   "outputs": [],
   "source": []
  }
 ]
}
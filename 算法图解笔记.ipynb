{
 "cells": [
  {
   "cell_type": "markdown",
   "metadata": {},
   "source": [
    "# 1. 简介\n",
    "## 1.1 二分查找\n",
    "\n",
    "二分查找最多需要 $\\log _{2} n$ 步，而简单查找最多需要$n$步。 代码如下："
   ]
  },
  {
   "cell_type": "code",
   "execution_count": 10,
   "metadata": {
    "ExecuteTime": {
     "end_time": "2020-11-22T09:17:51.671652Z",
     "start_time": "2020-11-22T09:17:51.667091Z"
    }
   },
   "outputs": [
    {
     "output_type": "execute_result",
     "data": {
      "text/plain": [
       "3"
      ]
     },
     "metadata": {},
     "execution_count": 10
    }
   ],
   "source": [
    "def binary_search(list, item):\n",
    "    \n",
    "    # 查找元素在列表中的位置\n",
    "    # 检查的范围\n",
    "    low = 0\n",
    "    high = len(list) - 1 \n",
    "    \n",
    "    #每次都检查中间的元素\n",
    "    #如果 (low+high)不是偶数，python自动将mid向下取整\n",
    "    while low <= high:\n",
    "        mid = (low + high)// 2\n",
    "        guess = list[mid]\n",
    "        if guess == item:\n",
    "            return mid\n",
    "        if guess > item: # 如果你猜的数偏大，让最大值变小\n",
    "            high = mid -1\n",
    "        else: # 如果你猜的数偏下了，则让最小值变大\n",
    "            low = mid + 1\n",
    "    return -1\n",
    "\n",
    "list_1 = [1,3,4,6,10]\n",
    "binary_search(list_1, 6)"
   ]
  },
  {
   "source": [
    "二分查找的运行时间为对数时间(或log(n))。简单查找允许时间为线性时间\n",
    "\n",
    "\n",
    " O(log n)，也叫对数时间，这样的算法包括二分查找。  \n",
    " O(n)，也叫线性时间，这样的算法包括简单查找。  \n",
    " O(n * log n)，这样的算法包括第4章将介绍的快速排序——一种速度较快的排序算法。  \n",
    " O(n2)，这样的算法包括第2章将介绍的选择排序——一种速度较慢的排序算法。  \n",
    " O(n!)，这样的算法包括接下来将介绍的旅行商问题的解决方案——一种非常慢的算法。  "
   ],
   "cell_type": "markdown",
   "metadata": {}
  },
  {
   "cell_type": "markdown",
   "metadata": {},
   "source": [
    "## 1.2 大O表示法\n",
    "大O表示法是一种特殊的表示法，指出了算法的速度有多快。实际上，你经常要 使用别人编写的算法，在这种情况下，知道这些算法的速度大有裨益。本节将介绍大O表示法是 什么，并使用它列出一些最常见的算法运行时间。  \n",
    "为检查长度为n的列表，二分查找需要执行log n次操作。使用大O表示法， 这个运行时间怎么表示呢?$O(\\log n)$.    $O(n)$ 中的n表示了操作数"
   ]
  },
  {
   "cell_type": "markdown",
   "metadata": {},
   "source": [
    "# 2. 选择排序"
   ]
  },
  {
   "cell_type": "markdown",
   "metadata": {},
   "source": [
    "## 2.1 数组和链表\n",
    "元素存在数组中，意味着它们都是相连的。但在链表中，元素可以存储在内存的任何对方"
   ]
  },
  {
   "cell_type": "markdown",
   "metadata": {},
   "source": [
    "### 2.1.1 链表\n",
    "链表的每个元素都存储了下一个元素的地址，从而使一系列随机的内存地址串在一起。在链表 中添加元素很容易:只需将其放入内存，并将其地址存储到前一个元素中。\n",
    "\n",
    "使用链表时，根本就不需要移动元素。这还可避免另一个问题。假设你与五位朋友去看一部 很火的电影。你们六人想坐在一起，但看电影的人较多，没有六个在一起的座位。使用数组时有 时就会遇到这样的情况。假设你要为数组分配10 000个位置，内存中有10 000个位置，但不都靠 在一起。在这种情况下，你将无法为该数组分配内存!链表相当于说“我们分开来坐”，因此， 只要有足够的内存空间，就能为链表分配内存。"
   ]
  },
  {
   "cell_type": "markdown",
   "metadata": {},
   "source": [
    "### 2.1.2 数组\n",
    "在需要读取链表的最后一个元素时，你不能直接读取，因为你不知道 它所处的地址，必须先访问元素#1，从中获取元素#2的地址，再访问元素#2并从中获取元素#3 的地址，以此类推，直到访问最后一个元素。需要同时读取所有元素时，链表的效率很高:你读 取第一个元素，根据其中的地址再读取第二个元素，以此类推。但如果你需要跳跃，链表的效率真的很低。\n",
    "\n",
    "数组与此不同:你知道其中每个元素的地址。例如，假设有一个数组，它包含五个元素，起 始地址为00，那么元素#5的地址是多少呢?"
   ]
  },
  {
   "cell_type": "markdown",
   "metadata": {},
   "source": [
    "### 从中间插入\n",
    "需要在中间插入元素时，数组和链表哪个更好呢?使用链表时，插入元素很简单，只需修改 它前面的那个元素指向的地址。而使用数组时，则必须将后面的元素都向后移。\n",
    "\n",
    "### 删除\n",
    "如果你要删除元素呢?链表也是更好的选择，因为只需修改前一个元素指向的地址即可。而\n",
    " 使用数组时，删除元素后，必须将后面的元素都向前移。\n",
    "不同于插入，删除元素总能成功。如果内存中没有足够的空间，插入操作可能失败，但在任 何情况下都能够将元素删除。\n",
    "\n"
   ]
  },
  {
   "cell_type": "markdown",
   "metadata": {},
   "source": [
    "\n",
    "--|数组|链表\n",
    "--|--|--\n",
    "读取|O(1)|O(n)\n",
    "插入|O(n)|O(1)\n",
    "删除|O(n)|O(1)\n",
    "O(n)代表线性时间，O(1) 代表常量时间.  \n",
    "\n",
    "需要指出的是，仅当能够立即访问要删除的元素时，删除操作的运行时间才为O(1)。通常我 们都记录了链表的第一个元素和最后一个元素，因此删除这些元素时运行时间为O(1)。"
   ]
  },
  {
   "cell_type": "markdown",
   "metadata": {},
   "source": [
    "\n",
    "数组和链表哪个用得更多呢?显然要看情况。但数组用得很多，因为它支持随机访问。有两 种访问方式:随机访问和顺序访问。顺序访问意味着从第一个元素开始逐个地读取元素。链表只 能顺序访问:要读取链表的第十个元素，得先读取前九个元素，并沿链接找到第十个元素。随机 10 访问意味着可直接跳到第十个元素。本书经常说数组的读取速度更快，这是因为它们支持随机访 问。很多情况都要求能够随机访问，因此数组用得很多。数组和链表还被用来实现其他数据结构， 这将在本书后面介绍。"
   ]
  },
  {
   "cell_type": "markdown",
   "metadata": {},
   "source": [
    "## 2.2 选择排序\n",
    "排序一个数组的歌曲流行度。\n",
    "\n",
    "\n",
    "随着排序的进行，每次需要检查的元素数在逐渐减少，最后一次需要检查的元素都只有一 个。既然如此，运行时间怎么还是O(n2)呢?这个问题问得好，这与大O表示法中的常数相关。 第4章将详细解释，这里只简单地说一说。  \n",
    "并非每次都需要检查n个元素。第一次需要检查n个元素，但随后检查的元素 数依次为n  1, n – 2, ..., 2和1。平均每次检查的元素数为1/2 × n，因此运行时间为O(n × 1/2 × n)。 但大O表示法省略诸如1/2这样的常数(有关这方面的完整讨论，请参阅第4章)，因此简单地写 作O(n × n)或O(n2)。"
   ]
  },
  {
   "cell_type": "markdown",
   "metadata": {},
   "source": [
    "将数组元素按从小到 大的顺序排列。先编写一个用于找出数组中最小元素的函数。"
   ]
  },
  {
   "cell_type": "code",
   "execution_count": 14,
   "metadata": {
    "ExecuteTime": {
     "end_time": "2020-11-22T13:04:09.591766Z",
     "start_time": "2020-11-22T13:04:09.586950Z"
    }
   },
   "outputs": [
    {
     "data": {
      "text/plain": [
       "[1, 2, 3, 4, 5, 6, 7, 8, 9]"
      ]
     },
     "execution_count": 14,
     "metadata": {},
     "output_type": "execute_result"
    }
   ],
   "source": [
    "list(range(1,10))"
   ]
  },
  {
   "cell_type": "code",
   "execution_count": 16,
   "metadata": {
    "ExecuteTime": {
     "end_time": "2020-11-22T13:06:58.472242Z",
     "start_time": "2020-11-22T13:06:58.466850Z"
    }
   },
   "outputs": [],
   "source": [
    "# 选择排序\n",
    "def findSmallest(arr):\n",
    "    smallest = arr[0]\n",
    "    smallest_index = 0\n",
    "    for i in range(1, len(arr)):\n",
    "        if arr[i] < smallest:\n",
    "            smallest = arr[i]\n",
    "            smallest_index = i\n",
    "    return smallest_index\n",
    "\n",
    "def selectionSort(arr):\n",
    "    newArr =[]\n",
    "    for i in range(len(arr)):\n",
    "        smallest = findSmallest(arr)\n",
    "        newArr.append(arr.pop(smallest))\n",
    "    return newArr"
   ]
  },
  {
   "cell_type": "code",
   "execution_count": 18,
   "metadata": {
    "ExecuteTime": {
     "end_time": "2020-11-22T13:07:24.466068Z",
     "start_time": "2020-11-22T13:07:24.461081Z"
    }
   },
   "outputs": [
    {
     "data": {
      "text/plain": [
       "[1, 2, 3, 3, 5, 10]"
      ]
     },
     "execution_count": 18,
     "metadata": {},
     "output_type": "execute_result"
    }
   ],
   "source": [
    "arr = [3,1,2,10,3,5]\n",
    "selectionSort(arr)"
   ]
  },
  {
   "cell_type": "markdown",
   "metadata": {},
   "source": [
    "# 3 递归"
   ]
  },
  {
   "cell_type": "markdown",
   "metadata": {
    "ExecuteTime": {
     "end_time": "2020-11-22T13:11:09.753139Z",
     "start_time": "2020-11-22T13:11:09.749727Z"
    }
   },
   "source": [
    "在一堆盒子套盒子里面找到钥匙，算法有如下两种：while 循环，只要盒子堆不为空，就从中取出一个盒子，在取出的盒子里面仔细寻找\n",
    "\n",
    "(1) 创建一个要查找的盒子堆。  \n",
    "(2) 从盒子堆取出一个盒子，在里面找。  \n",
    "(3) 如果找到的是盒子，就将其加入盒子堆中，以便以后再查找。  \n",
    "(4) 如果找到钥匙，则大功告成!  \n",
    "(5) 回到第二步。  \n",
    "\n",
    "\n",
    "\n",
    "```python\n",
    "def look_for_key(main_box):\n",
    "pile = main_box.make_a_pile_to_look_through() \n",
    "while pile is not empty:\n",
    "  box = pile.grab_a_box()\n",
    "  for item in box: 8\n",
    "    if item.is_a_box(): \n",
    "      pile.append(item)\n",
    "    elif:\n",
    "      item.is_a_key(): print \"found the key!\"\n",
    "```\n",
    "\n",
    "第二种方法使用递归——函数调用自己，这种方法的伪代码如下。  \n",
    "\n",
    "(1) 检查盒子中的每样东西。  \n",
    "(2) 如果是盒子，就回到第一步。  \n",
    "(3) 如果是钥匙，就大功告成!  |\n",
    "\n",
    "```python\n",
    "def look_for_key(box): \n",
    "  for item in box:\n",
    "    if item.is_a_box(): \n",
    "      look_for_key(item)\n",
    "    elif: \n",
    "      item.is_a_key(): \n",
    "      print \"found the key!\"\n",
    "```\n",
    "\n",
    "## 3.2 基线条件和递归条件\n",
    "由于递归函数调用自己，因此编写这样的函数时很容易出错，进而导致无限循环。例如，假设你要编写一个像下面这样倒计时的函数。\n",
    "> 3...2...1\n",
    "为此，你可以用递归的方式编写，如下所示。\n",
    "\n",
    "```python\n",
    "\n",
    "def countdown(i): \n",
    "  print i \n",
    "  countdown(i-1)\n",
    "```\n",
    "如果你运行上述代码，将发现一个问题:这个函数运行起来没完没了!!!!!!\n",
    "\n",
    "***Attention***\n",
    "编写递归函数时，必须告诉它何时停止递归。正因为如此，每个递归函数都有两部分:***基线条件(base case)***和***递归条件(recursive case)***。递归条件指的是函数调用自己，而基线条件则 指的是函数不再调用自己，从而避免形成无限循环。\n",
    "    \n",
    "请你想想怎么写上面的程序，需要写基线调节和递归条件。\n",
    "\n",
    "```python\n",
    "def countdown(i):\n",
    "  print(i)\n",
    "  if <= 0: # 基线条件\n",
    "    return print('计数结束')\n",
    "  else: # 递归条件\n",
    "    countdown(i-1)\n",
    "```"
   ]
  },
  {
   "source": [],
   "cell_type": "markdown",
   "metadata": {}
  },
  {
   "cell_type": "code",
   "execution_count": 1,
   "metadata": {},
   "outputs": [
    {
     "output_type": "stream",
     "name": "stdout",
     "text": [
      "10\n9\n8\n7\n6\n5\n4\n3\n2\n1\n0\n计数结束\n"
     ]
    }
   ],
   "source": [
    "def countdown(i):\n",
    "  print(i)\n",
    "  if i <= 0: # 基线条件\n",
    "    return print('计数结束')\n",
    "  else: # 递归条件\n",
    "    countdown(i-1)\n",
    "countdown(10)"
   ]
  },
  {
   "source": [
    "## 栈(stack)\n",
    "\n",
    "本节将介绍一个重要的编程概念——调用栈(call stack)。  \n",
    "假设你去野外烧烤，并为此创建了一个待办事项清单——一叠便条。  \n",
    "本书之前讨论数组和链表时，也有一个待办事项清单。你可将待办事 项添加到该清单的任何地方，还可删除任何一个待办事项。一叠便条要简单得多:插入的待办事项放在清单的最前面;读取待办事项时，你只读取最上面的那个，并将其删除。因此这个待办事项清单只有两种操作:压入\n",
    "(插入)和弹出(删除并读取) `list.pop()`"
   ],
   "cell_type": "markdown",
   "metadata": {}
  },
  {
   "source": [
    "```python\n",
    "def greet(name):\n",
    "    print \"hello, \" + name + \"!\" \n",
    "    greet2(name)\n",
    "    print \"getting ready to say bye...\" \n",
    "    bye()\n",
    "\n",
    "def greet2(name):\n",
    "    print \"how are you, \" + name + \"?\"\n",
    "\n",
    "def bye():\n",
    "    print \"ok bye!\"\n",
    "```\n",
    "\n",
    "函数调用时发生的情况\n",
    "![](./images/栈1.jpg)\n",
    "![](./images/栈2.jpg)\n",
    "![](./images/栈3.jpg)\n",
    "\n",
    "调用函数，先会给函数涉及到的变量（输入值，ex greet(name) 的name)分配一个内存。接下来函数内部开始运行。 函数内部的函数运行，运行完之后，内存块会被弹出。"
   ],
   "cell_type": "markdown",
   "metadata": {}
  },
  {
   "source": [
    "## 递归调用栈\n",
    "递归函数也使用栈！ 可以看看递归函数factorial的调用栈 factorial(5) = 5!。\n",
    "\n"
   ],
   "cell_type": "markdown",
   "metadata": {}
  },
  {
   "cell_type": "code",
   "execution_count": 25,
   "metadata": {},
   "outputs": [
    {
     "output_type": "execute_result",
     "data": {
      "text/plain": [
       "120"
      ]
     },
     "metadata": {},
     "execution_count": 25
    }
   ],
   "source": [
    "def fact(x):\n",
    "    if x == 1:\n",
    "        return 1\n",
    "    else:\n",
    "        return x * fact(x - 1)\n",
    "\n",
    "fact(5)"
   ]
  },
  {
   "source": [
    "使用栈虽然很方便，但是也要付出代价:存储详尽的信息可能占用大量的内存。每个函数调 用都要占用一定的内存，如果栈很高，就意味着计算机存储了大量函数调用的信息。在这种情况 下，你有两种选择。  \n",
    " 重新编写代码，转而使用循环。  \n",
    " 使用尾递归。这是一个高级递归主题，不在本书的讨论范围内。另外，并非所有的语言都支持尾递归。\n",
    "\n",
    "## 小结\n",
    " 递归指的是调用自己的函数。  \n",
    " 每个递归函数都有两个条件:基线条件和递归条件。  \n",
    " 栈有两种操作:压入和弹出。  \n",
    " 所有函数调用都进入调用栈。  \n",
    " 调用栈可能很长，这将占用大量的内存。  "
   ],
   "cell_type": "markdown",
   "metadata": {}
  },
  {
   "source": [
    "# 快速排序\n",
    "## 分而治之\n",
    "\n",
    "分而治之\n",
    "(divide and conquer，D&C)——一种著名的递归式问题解决方法。"
   ],
   "cell_type": "markdown",
   "metadata": {}
  },
  {
   "cell_type": "code",
   "execution_count": 42,
   "metadata": {},
   "outputs": [
    {
     "output_type": "stream",
     "name": "stdout",
     "text": [
      "55\n10\n"
     ]
    }
   ],
   "source": [
    "# sum()函数，sum函数怎么用递归来写\n",
    "def sum(number_list):\n",
    "    if len(number_list) == 0: # 基线条件\n",
    "        return 0 \n",
    "    elif len(number_list) == 1: # 基线条件\n",
    "        return number_list[0]\n",
    "    else:\n",
    "        return number_list[0] + sum(number_list[1:])\n",
    "\n",
    "val_sum = sum([1,2,3,4,5,6,7,8,9,10])\n",
    "print(val_sum)\n",
    "\n",
    "# 计数函数，怎么用递归来写\n",
    "def count(tmp_list):\n",
    "    if len(tmp_list) == 0: # 基线条件\n",
    "        return 0 \n",
    "    elif len(tmp_list) == 1: # 基线条件\n",
    "        return 1\n",
    "    else:\n",
    "        return 1 + count(tmp_list[1:])\n",
    "\n",
    "val_count = count([1,2,3,4,5,6,7,8,9,10])\n",
    "print(val_count)        \n"
   ]
  },
  {
   "cell_type": "code",
   "execution_count": 41,
   "metadata": {},
   "outputs": [
    {
     "output_type": "execute_result",
     "data": {
      "text/plain": [
       "344"
      ]
     },
     "metadata": {},
     "execution_count": 41
    }
   ],
   "source": [
    "# 从一个数组找出最大数\n",
    "class findMaxnumber(object):\n",
    "    def bigger(self, v1, v2):\n",
    "        if v1 > v2:\n",
    "            return v1\n",
    "        else:\n",
    "            return v2\n",
    "\n",
    "    def max(self, list):\n",
    "        if len(list) == 1:\n",
    "            return list[0]\n",
    "        elif len(list) == 2:\n",
    "            return self.bigger(list[0], list[1])\n",
    "        else:\n",
    "            return self.bigger(list[0], max(list[1:]))\n",
    "\n",
    "tmp_list = [1,4,32,8,5,3,1,344]\n",
    "a = findMaxnumber()\n",
    "a.max(tmp_list)"
   ]
  },
  {
   "source": [
    "## 快速排序\n",
    "快速排序是一种常用的排序算法，比选择排序快得多。例如，C语言标准库中的函数qsort 实现的就是快速排序。快速排序也使用了D&C。"
   ],
   "cell_type": "markdown",
   "metadata": {}
  },
  {
   "cell_type": "code",
   "execution_count": 5,
   "metadata": {},
   "outputs": [],
   "source": [
    "\n",
    "def quicksort(arr):\n",
    "    if len(arr) < 2: # 基准条件，为空或者只包含一个元素的数组。是有序的\n",
    "        return arr\n",
    "    else: # 递归条件\n",
    "        pivot = arr[0] \n",
    "        '''\n",
    "        快速排序核心思想：\n",
    "        递归\n",
    "        分而治之，分段，\n",
    "        设置pivot\n",
    "\n",
    "        用pivot和剩余的数组比，\n",
    "        小于pivot的放左边\n",
    "        大于pivot的放右边\n",
    "        '''\n",
    "        less = [i for i in arr[1:] if i <= pivot] # 由所有小于基准值的元素组成的子数组\n",
    "        greater = [i for i in arr[1:] if i > pivot] # 由所有大于基准值的元素组成的子数组\n",
    "\n",
    "        \n",
    "        return quicksort(less) + [pivot] + quicksort(greater)\n"
   ]
  },
  {
   "cell_type": "code",
   "execution_count": 6,
   "metadata": {},
   "outputs": [],
   "source": [
    "def quickSort(arr):\n",
    "    if len(arr) < 2:\n",
    "        return arr\n",
    "    else:\n",
    "        pivot = arr[0]\n",
    "        smaller = [i for i in arr[1:] if i <= pivot]\n",
    "        greater = [i for i in arr[1:] if i > pivot]\n",
    "        return quickSort(smaller) + [pivot] + quickSort(greater)\n"
   ]
  },
  {
   "cell_type": "code",
   "execution_count": 7,
   "metadata": {},
   "outputs": [
    {
     "output_type": "execute_result",
     "data": {
      "text/plain": [
       "[2, 3, 23, 24, 123, 353, 423, 534, 534]"
      ]
     },
     "metadata": {},
     "execution_count": 7
    }
   ],
   "source": [
    "quickSort([2,353,123,534,534,24,3,423,23])"
   ]
  },
  {
   "source": [
    "## 小结\n",
    " D&C将问题逐步分解。使用D&C处理列表时，基线条件很可能是空数组或只包含一个元 素的数组。  \n",
    " 实现快速排序时，请随机地选择用作基准值的元素。快速排序的平均运行时间为O(n log n)。  \n",
    " 大O表示法中的常量有时候事关重大，这就是快速排序比合并排序快的原因所在。  \n",
    " 比较简单查找和二分查找时，常量几乎无关紧要，因为列表很长时，O(log n)的速度比O(n)快得多。"
   ],
   "cell_type": "markdown",
   "metadata": {}
  },
  {
   "source": [
    "# 5.散列表（hash table）\n",
    "+ 学习散列表——最有用的基本数据结构之一。散列表用途广泛，本章将介绍其常见的用途。 \n",
    "+ 学习散列表的内部机制:实现、冲突和散列函数。这将帮助你理解如何分析散列表的性能。\n",
    "\n",
    "## 5.1散列函数\n",
    "散列函数，无论你给它什么数据，它都会给你一个数字。也就是散列函数将***输入***映射到数字。散列函数准确地指出了价格的存储位置，你根本不用查找。之所以能这样的原因是：\n",
    "+ 散列函数总是将同样的输入映射到相同的索引。比如每次你输入Sean，得到的都是同一个数字。因此，你可首先使用它来确定将Sean的属性存储在什么地方，并在以后使用它来查找Sean的属性存储在什么地方。\n",
    "+ 散列函数将不同的输入映射到不同的索引。Sean映射到索引1，Taylor映射到索引0。每个人都映射到数组的不同位置，让你能够将其这些人的位置储存。"
   ],
   "cell_type": "markdown",
   "metadata": {}
  },
  {
   "cell_type": "code",
   "execution_count": 9,
   "metadata": {},
   "outputs": [
    {
     "output_type": "execute_result",
     "data": {
      "text/plain": [
       "{'Learning Python': 2, 'Hands on ML': 10, 'Linux': 5}"
      ]
     },
     "metadata": {},
     "execution_count": 9
    }
   ],
   "source": [
    "# 实现 hash table\n",
    "book = dict()\n",
    "book['Learning Python'] = 2\n",
    "book['Hands on ML'] = 10\n",
    "book['Linux'] = 5\n",
    "book"
   ]
  },
  {
   "cell_type": "code",
   "execution_count": 10,
   "metadata": {},
   "outputs": [
    {
     "output_type": "execute_result",
     "data": {
      "text/plain": [
       "10"
      ]
     },
     "metadata": {},
     "execution_count": 10
    }
   ],
   "source": [
    "book['Hands on ML']"
   ]
  },
  {
   "source": [
    "## 5.2应用\n",
    "### 5.2.1 hash table 应用于查找\n",
    "用于查找，速度很快。 Hash table 是一种以时间换空间的数据结构。\n",
    "### 5.2.2 防止重复\n",
    "\n"
   ],
   "cell_type": "markdown",
   "metadata": {}
  },
  {
   "cell_type": "code",
   "execution_count": 13,
   "metadata": {},
   "outputs": [
    {
     "output_type": "stream",
     "name": "stdout",
     "text": [
      "kick the person out\nplease vote!!!\n"
     ]
    }
   ],
   "source": [
    "voted = {'Sean':'yes'}\n",
    "def check_voted(name):\n",
    "    if voted.get(name):\n",
    "        print('kick the person out')\n",
    "    else:\n",
    "        print('please vote!!!')\n",
    "\n",
    "check_voted('Sean')\n",
    "check_voted('Taylor')\n"
   ]
  },
  {
   "source": [
    "### 5.2.3 用于缓存\n",
    "将用户的数据存储到一个hash table， 根据用户的数据，去给用户推荐不同的信息。\n",
    "\n",
    "## 5.3 冲突\n",
    "假设有一个数组， 它包含26个位置。你使用的散列函数非常简单，它按字母表顺序分配数组的位置。就有可能出现两个单词都在同一个散列表中，比如 Apple，Avocado。就可以将一个链表存到这个位置中\n",
    "\n",
    "## 5.4 性能"
   ],
   "cell_type": "markdown",
   "metadata": {}
  },
  {
   "source": [
    "# 6 广度优先搜索 (非加权图))\n",
    "+ 学习使用新的数据结构图来建立网络模型。\n",
    "+ 学习广度优先搜索，你可对图使用这种算法回答诸如“到X的最短路径是什么”等问题。 \n",
    "+ 学习有向图和无向图。\n",
    "+ 学习拓扑排序，这种排序算法指出了节点之间的依赖关系。\n",
    "\n",
    "广度优先搜索让你能够找出两样东西之间的最短距离，不过最短距离的含义有很多!使用广 度优先搜索可以:\n",
    "+ 编写国际跳棋AI，计算最少走多少步就可获胜;\n",
    "+  编写拼写检查器，计算最少编辑多少个地方就可将错拼的单词改成正确的单词，如将 READED改为READER需要编辑一个地方;\n",
    "+ 根据你的人际关系网络找到关系最近的医生。\n",
    "\n",
    "## 6.1 图简介\n",
    "地图有不同路径，你要计算出最短的举例。 要用广度优先搜索，需要解决两个前置步骤： 1. 使用图来建模 2. 使用广度优先搜索解决问题。 \n",
    "\n",
    "图模拟一组连接，图由 node 和 edge组成。\n",
    "\n",
    "## 6.2 广度优先搜索\n",
    "度优先搜索是一种用于图的查找算法，可帮助 回答两类问题。\n",
    "+ 第一类问题:从节点A出发，有前往节点B的路径吗?\n",
    "+ 第二类问题:从节点A出发，前往节点B的哪条路径最短?\n",
    "\n",
    "### 6.2.1 查找最短路径\n",
    "+ 第一类问题:从节点A出发，有前往节点B的路径吗?（在你人际关系网中，有人是算法工程师吗？）\n",
    "+ 第二类问题:从节点A出发，前往节点B的哪条路径最短?（哪个算法工程师和你关系最近？）\n",
    "\n",
    "朋友是一度关系，朋友的朋友是二度关系。首先，你得现在一度关系中搜索，确定没有算法工程师后，才从二度关系搜索。（这就是广度优先搜索）\n",
    "### 6.2.2 队列\n",
    "你可以用队列来查找一度关系中的算法工程师。\n",
    "\n",
    "***队列和栈的区别***： 队列是一种先进先出（first in first out）的数据结构，而栈是一种后进先出（last in first out）的数据结构。\n",
    "\n",
    "队列就像一条路，有一个入口和一个出口，先进去的就可以先出去。你也可以比做排队，先排队就可以先吃饭。  \n",
    "而栈就像是很多箱子叠在一起，后放的在上面，后放的会先运行。\n",
    "\n",
    "![](./images/队列和栈.jpg)\n",
    "\n",
    "\n",
    "## 6.3 实现图\n"
   ],
   "cell_type": "markdown",
   "metadata": {}
  },
  {
   "cell_type": "code",
   "execution_count": 14,
   "metadata": {},
   "outputs": [],
   "source": [
    "graph = {}\n",
    "graph[\"you\"] = [\"alice\", \"bob\", \"claire\"]\n",
    "graph[\"bob\"] = [\"anuj\", \"peggy\"]\n",
    "graph[\"alice\"] = [\"peggy\"]\n",
    "graph[\"claire\"] = [\"thom\", \"jonny\"]\n",
    "graph[\"anuj\"] = []\n",
    "graph[\"peggy\"] = []\n",
    "graph[\"thom\"] = []\n",
    "graph[\"jonny\"] = []"
   ]
  },
  {
   "source": [
    "## 6.4 实现算法\n"
   ],
   "cell_type": "markdown",
   "metadata": {}
  },
  {
   "cell_type": "code",
   "execution_count": 16,
   "metadata": {},
   "outputs": [],
   "source": [
    "from collections import deque\n",
    "search_queue = deque()\n",
    "search_queue += graph['you']\n",
    "\n",
    "while search_queue: # 当队列不为空\n",
    "    person = search_queue.popleft()  # 取出队列中第一个人\n",
    "    if person_is_NLPer(person): # 如果这人是算法工程师\n",
    "        print(person,'这人是算法工程师')\n",
    "        return True\n",
    "    else: # 如果这人不是算法工程师，则将 person 的朋友加入队列\n",
    "        search_queue += graph[person]\n",
    "\n",
    "def person_is_NLPer(person):\n",
    "    # 定义NLPer的规则\n",
    "    pass"
   ]
  },
  {
   "source": [
    "这个算法将不断执行，直到满足以下条件之一: \n",
    "+ 找到一位芒果销售商;\n",
    "+ 队列变成空的，这意味着你的人际关系网中没有芒果销售商。\n",
    "\n",
    "也有可能出现程序无限循环的结果，因为两个人可能相互是好友。那么这样的话，就需要创建一个列表来记录检查过的人。\n"
   ],
   "cell_type": "markdown",
   "metadata": {}
  },
  {
   "cell_type": "code",
   "execution_count": null,
   "metadata": {},
   "outputs": [],
   "source": [
    "def search(name):\n",
    "    search_queue = deque()\n",
    "    search_queue += graph[name]\n",
    "    searched = []\n",
    "    while search_queue:\n",
    "        person = search_queue.popleft()\n",
    "        if not person in searched: # 这人不在被检查列表时，才检查\n",
    "            if person_is_NLPer(person):\n",
    "                print(person,'是算法工程师')\n",
    "                return True\n",
    "            else:\n",
    "                search_queue += graph[person]\n",
    "                search.append(person)\n",
    "    return False\n",
    "    \n"
   ]
  },
  {
   "source": [
    "***运行时间***  \n",
    "\n",
    "如果你在你的整个人际关系网中搜索芒果销售商，就意味着你将沿每条边前行，因此运行时间至少为O(边数)。  \n",
    "\n",
    "还使用了一个队列，其中包含要检查的每个人。将一个人添加到队列需要的时间是固定的， 即为O(1)，因此对每个人都这样做需要的总时间为O(人数)。所以，广度优先搜索的运行时间为 O(人数 + 边数)，这通常写作O(V + E)，其中V为顶点(vertice)数，E为边数。"
   ],
   "cell_type": "markdown",
   "metadata": {}
  },
  {
   "source": [
    "# 7.狄克斯特拉算法(加权图)\n",
    "+ 继续图的讨论，介绍加权图——提高或降低某些边的权重。\n",
    "+ 介绍狄克斯特拉算法，让你能够找出加权图中前往X的最短路径。 \n",
    "+ 介绍图中的环，它导致狄克斯特拉算法不管用。\n",
    "\n",
    "在第六章中，我们学习了图，和广度优先搜索算法。但是对于非加权图，我们是找出段数最少的路径。\n",
    "\n",
    "但在实际的任务中，不同道路它的权值是不同（也就是说你走不同的路，花费是不同的；或者是说你跟不同人的关系有好坏；这个程度体现在权值的大小上）。 我们要找出最快的路径，要使用另外一种算法（狄克斯特拉 算法(Dijkstra’s algorithm)。\n",
    "\n",
    "## 7.1 使用狄克斯特拉算法\n"
   ],
   "cell_type": "markdown",
   "metadata": {}
  },
  {
   "cell_type": "code",
   "execution_count": 24,
   "metadata": {},
   "outputs": [],
   "source": [
    "# 数据\n",
    "\n",
    "graph['start'] = {}\n",
    "\n",
    "# 散列表 一度\n",
    "graph['start']['a'] = 6\n",
    "graph['start']['b'] = 2\n",
    "\n",
    "# 二度节点\n",
    "graph['a'] = {}\n",
    "graph['a']['fin'] = 1\n",
    "\n",
    "graph['b'] = {}\n",
    "graph['b']['a'] = 3\n",
    "graph['b']['fin'] = 5\n",
    "\n",
    "# 终点\n",
    "graph['fin'] = {}\n",
    "\n",
    "\n",
    "\n"
   ]
  },
  {
   "cell_type": "code",
   "execution_count": 33,
   "metadata": {},
   "outputs": [],
   "source": [
    "inf = float('inf')\n",
    "\n",
    "# cost function\n",
    "costs = {}\n",
    "costs['a'], costs['b'], costs['fin'] = 6, 2, inf\n",
    "\n",
    "# 散列表\n",
    "parents = {}\n",
    "parents['a'],parents['b'], parents['fin'] = 'start', 'start', None\n",
    "\n",
    "# 记录处理过度节点\n",
    "processed = []\n",
    "\n",
    "\n",
    "\n",
    "\n"
   ]
  },
  {
   "cell_type": "code",
   "execution_count": 35,
   "metadata": {},
   "outputs": [],
   "source": [
    "def find_lowest_cost_node(costs):\n",
    "    lowest_cost = float('inf')\n",
    "    lowest_cost_node = None\n",
    "    for node in costs:\n",
    "        cost = costs[node]\n",
    "        if cost < lowest_cost and node not in processed:\n",
    "            lowest_cost = cost\n",
    "            lowest_cost_node = node\n",
    "    return lowest_cost_node\n",
    "\n",
    "\n",
    "node = find_lowest_cost_node(costs)\n",
    "while node is not None:\n",
    "    cost = costs[node]\n",
    "    neighbors = graph[node]\n",
    "    for n in neighbors.keys():\n",
    "        new_cost = cost + neighbors[n]\n",
    "        if costs[n] > new_cost:\n",
    "            costs[n] = new_cost\n",
    "            parents[n] = node\n",
    "    processed.append(node)\n",
    "    node = find_lowest_cost_node(costs)"
   ]
  },
  {
   "cell_type": "code",
   "execution_count": 40,
   "metadata": {},
   "outputs": [
    {
     "output_type": "execute_result",
     "data": {
      "text/plain": [
       "{'a': 'b', 'b': 'start', 'fin': 'a'}"
      ]
     },
     "metadata": {},
     "execution_count": 40
    }
   ],
   "source": [
    "parents"
   ]
  },
  {
   "cell_type": "code",
   "execution_count": null,
   "metadata": {},
   "outputs": [],
   "source": []
  }
 ],
 "metadata": {
  "kernelspec": {
   "display_name": "Python 3",
   "language": "python",
   "name": "python3"
  },
  "language_info": {
   "codemirror_mode": {
    "name": "ipython",
    "version": 3
   },
   "file_extension": ".py",
   "mimetype": "text/x-python",
   "name": "python",
   "nbconvert_exporter": "python",
   "pygments_lexer": "ipython3",
   "version": "3.7.6-final"
  },
  "toc": {
   "base_numbering": 1,
   "nav_menu": {},
   "number_sections": true,
   "sideBar": true,
   "skip_h1_title": false,
   "title_cell": "Table of Contents",
   "title_sidebar": "Contents",
   "toc_cell": false,
   "toc_position": {},
   "toc_section_display": true,
   "toc_window_display": false
  },
  "varInspector": {
   "cols": {
    "lenName": 16,
    "lenType": 16,
    "lenVar": 40
   },
   "kernels_config": {
    "python": {
     "delete_cmd_postfix": "",
     "delete_cmd_prefix": "del ",
     "library": "var_list.py",
     "varRefreshCmd": "print(var_dic_list())"
    },
    "r": {
     "delete_cmd_postfix": ") ",
     "delete_cmd_prefix": "rm(",
     "library": "var_list.r",
     "varRefreshCmd": "cat(var_dic_list()) "
    }
   },
   "types_to_exclude": [
    "module",
    "function",
    "builtin_function_or_method",
    "instance",
    "_Feature"
   ],
   "window_display": false
  }
 },
 "nbformat": 4,
 "nbformat_minor": 4
}
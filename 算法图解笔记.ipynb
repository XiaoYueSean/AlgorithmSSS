{
 "cells": [
  {
   "cell_type": "markdown",
   "metadata": {},
   "source": [
    "# 1. 简介\n",
    "## 1.1 二分查找\n",
    "\n",
    "二分查找最多需要 $\\log _{2} n$ 步，而简单查找最多需要$n$步。 代码如下："
   ]
  },
  {
   "cell_type": "code",
   "execution_count": 12,
   "metadata": {
    "ExecuteTime": {
     "end_time": "2020-11-22T09:17:51.671652Z",
     "start_time": "2020-11-22T09:17:51.667091Z"
    }
   },
   "outputs": [],
   "source": [
    "def binary_search(list, item):\n",
    "    \n",
    "    # 查找元素在列表中的位置\n",
    "    # 检查的范围\n",
    "    low = 0\n",
    "    high = len(list) - 1 \n",
    "    \n",
    "    #每次都检查中间的元素\n",
    "    #如果 (low+high)不是偶数，python自动将mid向下取整\n",
    "    while low <= high:\n",
    "        mid = (low + high)// 2\n",
    "        guess = list[mid]\n",
    "        if guess == item:\n",
    "            return mid\n",
    "        if guess > item:\n",
    "            high = mid -1\n",
    "        else:\n",
    "            low = mid + 1\n",
    "    return -1"
   ]
  },
  {
   "cell_type": "code",
   "execution_count": 13,
   "metadata": {
    "ExecuteTime": {
     "end_time": "2020-11-22T09:19:34.251287Z",
     "start_time": "2020-11-22T09:19:34.247967Z"
    }
   },
   "outputs": [],
   "source": [
    "list_1 = [1,3,4,6,10]"
   ]
  },
  {
   "cell_type": "code",
   "execution_count": 14,
   "metadata": {
    "ExecuteTime": {
     "end_time": "2020-11-22T09:19:52.743673Z",
     "start_time": "2020-11-22T09:19:52.738869Z"
    }
   },
   "outputs": [
    {
     "data": {
      "text/plain": [
       "3"
      ]
     },
     "execution_count": 14,
     "metadata": {},
     "output_type": "execute_result"
    }
   ],
   "source": [
    "binary_search(list_1, 6)"
   ]
  },
  {
   "cell_type": "code",
   "execution_count": 15,
   "metadata": {
    "ExecuteTime": {
     "end_time": "2020-11-22T09:20:14.043394Z",
     "start_time": "2020-11-22T09:20:14.038637Z"
    }
   },
   "outputs": [
    {
     "data": {
      "text/plain": [
       "-1"
      ]
     },
     "execution_count": 15,
     "metadata": {},
     "output_type": "execute_result"
    }
   ],
   "source": [
    "binary_search(list_1, 8)"
   ]
  },
  {
   "cell_type": "markdown",
   "metadata": {},
   "source": [
    "## 1.2 大O表示法\n",
    "大O表示法是一种特殊的表示法，指出了算法的速度有多快。实际上，你经常要 使用别人编写的算法，在这种情况下，知道这些算法的速度大有裨益。本节将介绍大O表示法是 什么，并使用它列出一些最常见的算法运行时间。  \n",
    "为检查长度为n的列表，二分查找需要执行log n次操作。使用大O表示法， 这个运行时间怎么表示呢?$O(\\log n)$.    $O(n)$ 中的n表示了操作数"
   ]
  },
  {
   "cell_type": "markdown",
   "metadata": {},
   "source": [
    "# 2. 选择排序"
   ]
  },
  {
   "cell_type": "markdown",
   "metadata": {},
   "source": [
    "## 2.1 数组和链表\n",
    "元素存在数组中，意味着它们都是相连的。但在链表中，元素可以存储在内存的任何对方"
   ]
  },
  {
   "cell_type": "markdown",
   "metadata": {},
   "source": [
    "### 2.1.1 链表\n",
    "链表的每个元素都存储了下一个元素的地址，从而使一系列随机的内存地址串在一起。在链表 中添加元素很容易:只需将其放入内存，并将其地址存储到前一个元素中。\n",
    "\n",
    "使用链表时，根本就不需要移动元素。这还可避免另一个问题。假设你与五位朋友去看一部 很火的电影。你们六人想坐在一起，但看电影的人较多，没有六个在一起的座位。使用数组时有 时就会遇到这样的情况。假设你要为数组分配10 000个位置，内存中有10 000个位置，但不都靠 在一起。在这种情况下，你将无法为该数组分配内存!链表相当于说“我们分开来坐”，因此， 只要有足够的内存空间，就能为链表分配内存。"
   ]
  },
  {
   "cell_type": "markdown",
   "metadata": {},
   "source": [
    "### 2.1.2 数组\n",
    "在需要读取链表的最后一个元素时，你不能直接读取，因为你不知道 它所处的地址，必须先访问元素#1，从中获取元素#2的地址，再访问元素#2并从中获取元素#3 的地址，以此类推，直到访问最后一个元素。需要同时读取所有元素时，链表的效率很高:你读 取第一个元素，根据其中的地址再读取第二个元素，以此类推。但如果你需要跳跃，链表的效率真的很低。\n",
    "\n",
    "数组与此不同:你知道其中每个元素的地址。例如，假设有一个数组，它包含五个元素，起 始地址为00，那么元素#5的地址是多少呢?"
   ]
  },
  {
   "cell_type": "markdown",
   "metadata": {},
   "source": [
    "### 从中间插入\n",
    "需要在中间插入元素时，数组和链表哪个更好呢?使用链表时，插入元素很简单，只需修改 它前面的那个元素指向的地址。而使用数组时，则必须将后面的元素都向后移。\n",
    "\n",
    "### 删除\n",
    "如果你要删除元素呢?链表也是更好的选择，因为只需修改前一个元素指向的地址即可。而\n",
    " 使用数组时，删除元素后，必须将后面的元素都向前移。\n",
    "不同于插入，删除元素总能成功。如果内存中没有足够的空间，插入操作可能失败，但在任 何情况下都能够将元素删除。\n",
    "\n"
   ]
  },
  {
   "cell_type": "markdown",
   "metadata": {},
   "source": [
    "\n",
    "--|数组|链表\n",
    "--|--|--\n",
    "读取|O(1)|O(n)\n",
    "插入|O(n)|O(1)\n",
    "删除|O(n)|O(1)\n",
    "O(n)代表线性时间，O(1) 代表常量时间.  \n",
    "\n",
    "需要指出的是，仅当能够立即访问要删除的元素时，删除操作的运行时间才为O(1)。通常我 们都记录了链表的第一个元素和最后一个元素，因此删除这些元素时运行时间为O(1)。"
   ]
  },
  {
   "cell_type": "markdown",
   "metadata": {},
   "source": [
    "\n",
    "数组和链表哪个用得更多呢?显然要看情况。但数组用得很多，因为它支持随机访问。有两 种访问方式:随机访问和顺序访问。顺序访问意味着从第一个元素开始逐个地读取元素。链表只 能顺序访问:要读取链表的第十个元素，得先读取前九个元素，并沿链接找到第十个元素。随机 10 访问意味着可直接跳到第十个元素。本书经常说数组的读取速度更快，这是因为它们支持随机访 问。很多情况都要求能够随机访问，因此数组用得很多。数组和链表还被用来实现其他数据结构， 这将在本书后面介绍。"
   ]
  },
  {
   "cell_type": "markdown",
   "metadata": {},
   "source": [
    "## 2.2 选择排序\n",
    "排序一个数组的歌曲流行度。\n",
    "\n",
    "\n",
    "随着排序的进行，每次需要检查的元素数在逐渐减少，最后一次需要检查的元素都只有一 个。既然如此，运行时间怎么还是O(n2)呢?这个问题问得好，这与大O表示法中的常数相关。 第4章将详细解释，这里只简单地说一说。  \n",
    "并非每次都需要检查n个元素。第一次需要检查n个元素，但随后检查的元素 数依次为n  1, n – 2, ..., 2和1。平均每次检查的元素数为1/2 × n，因此运行时间为O(n × 1/2 × n)。 但大O表示法省略诸如1/2这样的常数(有关这方面的完整讨论，请参阅第4章)，因此简单地写 作O(n × n)或O(n2)。"
   ]
  },
  {
   "cell_type": "markdown",
   "metadata": {},
   "source": [
    "将数组元素按从小到 大的顺序排列。先编写一个用于找出数组中最小元素的函数。"
   ]
  },
  {
   "cell_type": "code",
   "execution_count": 14,
   "metadata": {
    "ExecuteTime": {
     "end_time": "2020-11-22T13:04:09.591766Z",
     "start_time": "2020-11-22T13:04:09.586950Z"
    }
   },
   "outputs": [
    {
     "data": {
      "text/plain": [
       "[1, 2, 3, 4, 5, 6, 7, 8, 9]"
      ]
     },
     "execution_count": 14,
     "metadata": {},
     "output_type": "execute_result"
    }
   ],
   "source": [
    "list(range(1,10))"
   ]
  },
  {
   "cell_type": "code",
   "execution_count": 17,
   "metadata": {
    "ExecuteTime": {
     "end_time": "2020-11-22T13:06:58.472242Z",
     "start_time": "2020-11-22T13:06:58.466850Z"
    }
   },
   "outputs": [],
   "source": [
    "def findSmallest(arr):\n",
    "    smallest = arr[0]\n",
    "    smallest_index = 0\n",
    "    for i in range(1, len(arr)):\n",
    "        if arr[i] < smallest:\n",
    "            smallest = arr[i]\n",
    "            smallest_index = i\n",
    "    return smallest_index\n",
    "\n",
    "def selectionSort(arr):\n",
    "    newArr =[]\n",
    "    for i in range(len(arr)):\n",
    "        smallest = findSmallest(arr)\n",
    "        newArr.append(arr.pop(smallest))\n",
    "    return newArr"
   ]
  },
  {
   "cell_type": "code",
   "execution_count": 18,
   "metadata": {
    "ExecuteTime": {
     "end_time": "2020-11-22T13:07:24.466068Z",
     "start_time": "2020-11-22T13:07:24.461081Z"
    }
   },
   "outputs": [
    {
     "data": {
      "text/plain": [
       "[1, 2, 3, 3, 5, 10]"
      ]
     },
     "execution_count": 18,
     "metadata": {},
     "output_type": "execute_result"
    }
   ],
   "source": [
    "arr = [3,1,2,10,3,5]\n",
    "selectionSort(arr)"
   ]
  },
  {
   "cell_type": "markdown",
   "metadata": {},
   "source": [
    "# 3 递归"
   ]
  },
  {
   "cell_type": "markdown",
   "metadata": {
    "ExecuteTime": {
     "end_time": "2020-11-22T13:11:09.753139Z",
     "start_time": "2020-11-22T13:11:09.749727Z"
    }
   },
   "source": [
    "在一堆盒子套盒子里面找到钥匙，算法有如下两种：while 循环，只要盒子堆不为空，就从中取出一个盒子，在取出的盒子里面仔细寻找\n",
    "\n",
    "\n",
    "```python\n",
    "def look_for_key(main_box):\n",
    "pile = main_box.make_a_pile_to_look_through() \n",
    "while pile is not empty:\n",
    "  box = pile.grab_a_box()\n",
    "  for item in box: 8\n",
    "    if item.is_a_box(): \n",
    "      pile.append(item)\n",
    "    elif:\n",
    "      item.is_a_key(): print \"found the key!\"\n",
    "```\n",
    "\n",
    "第二种方法使用递归——函数调用自己，这种方法的伪代码如下。\n",
    "\n",
    "```python\n",
    "def look_for_key(box): \n",
    "  for item in box:\n",
    "    if item.is_a_box(): \n",
    "      look_for_key(item)\n",
    "  elif: \n",
    "    item.is_a_key(): print \"found the key!\"\n",
    "```\n",
    "\n",
    "    "
   ]
  },
  {
   "cell_type": "code",
   "execution_count": null,
   "metadata": {},
   "outputs": [],
   "source": []
  }
 ],
 "metadata": {
  "kernelspec": {
   "display_name": "Python 3",
   "language": "python",
   "name": "python3"
  },
  "language_info": {
   "codemirror_mode": {
    "name": "ipython",
    "version": 3
   },
   "file_extension": ".py",
   "mimetype": "text/x-python",
   "name": "python",
   "nbconvert_exporter": "python",
   "pygments_lexer": "ipython3",
   "version": "3.7.6"
  },
  "toc": {
   "base_numbering": 1,
   "nav_menu": {},
   "number_sections": true,
   "sideBar": true,
   "skip_h1_title": false,
   "title_cell": "Table of Contents",
   "title_sidebar": "Contents",
   "toc_cell": false,
   "toc_position": {},
   "toc_section_display": true,
   "toc_window_display": false
  },
  "varInspector": {
   "cols": {
    "lenName": 16,
    "lenType": 16,
    "lenVar": 40
   },
   "kernels_config": {
    "python": {
     "delete_cmd_postfix": "",
     "delete_cmd_prefix": "del ",
     "library": "var_list.py",
     "varRefreshCmd": "print(var_dic_list())"
    },
    "r": {
     "delete_cmd_postfix": ") ",
     "delete_cmd_prefix": "rm(",
     "library": "var_list.r",
     "varRefreshCmd": "cat(var_dic_list()) "
    }
   },
   "types_to_exclude": [
    "module",
    "function",
    "builtin_function_or_method",
    "instance",
    "_Feature"
   ],
   "window_display": false
  }
 },
 "nbformat": 4,
 "nbformat_minor": 4
}
